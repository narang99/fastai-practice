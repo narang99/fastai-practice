{
 "cells": [
  {
   "cell_type": "markdown",
   "metadata": {},
   "source": [
    "# Matrix Calculas\n",
    "\n",
    "The following is a summary of a [paper](https://explained.ai/matrix-calculus/index.html) suggested by Jeremy for an introduction to matrix calculas.\n",
    "\n",
    "## Differentiation as an operator\n",
    "\n",
    "`d/dx` can be thought of as an operator that maps a function `f(x)` (single input variable) to its derivate `f'(x)`. This results in more intuitive and easier handling of derivates.\n",
    "\n",
    "## Vector Calculas\n",
    "\n",
    "### Partial Derivatives\n",
    "\n",
    "A function `f(x,y)` (multiple parameters) can be differentiated using the help of partial derivates.  \n",
    "A partial derivate with respect to `x` will give the change in `f(x,y)` w.r.t `x` **keeping** `y` **constant**  \n",
    "**NOTE:** Partial derivates are commonly called partials\n",
    "\n",
    "In vector calculas, all partials of a function are organized in a vector format. This is called a **gradient**\n"
   ]
  },
  {
   "cell_type": "code",
   "execution_count": null,
   "metadata": {},
   "outputs": [],
   "source": [
    "\" Gradient of a multivariate function \"\n",
    "# using for autograd\n",
    "from torch import tensor\n",
    "\n",
    "#initial values\n",
    "x,y = tensor(1.0, requires_grad=True), tensor(1.0, requires_grad=True)\n",
    "\n",
    "\" f(x,y) = 3.y.x^2\"\n",
    "def f(x, y):\n",
    "    return 3*x.pow(2)*y\n",
    "\n",
    "def gradient(f, x, y):\n",
    "    if x.grad is not None: x.grad.zero_()\n",
    "    if y.grad is not None: y.grad.zero_()\n",
    "    z = f(x, y)\n",
    "    z.backward() # finds gradient\n",
    "    # extract all scalars -> put in list -> make tensor\n",
    "    return tensor([x.grad.item(), y.grad.item()])\n",
    "\n",
    "gradient(f, x, y)"
   ]
  },
  {
   "cell_type": "code",
   "execution_count": null,
   "metadata": {},
   "outputs": [],
   "source": [
    "\" A more general version of gradient which takes arbitrary number of arguments for a function \" \n",
    "def gradient(f, *args):\n",
    "    for arg in args: \n",
    "        if arg.grad is not None: arg.grad.zero_()\n",
    "    z = f(*args)\n",
    "    z.backward()\n",
    "    # extract all scalars -> put in list -> make tensor\n",
    "    return tensor([arg.grad.item() for arg in args], requires_grad=True)\n",
    "\n",
    "gradient(f, x, y)"
   ]
  },
  {
   "cell_type": "code",
   "execution_count": null,
   "metadata": {},
   "outputs": [],
   "source": [
    "x"
   ]
  },
  {
   "cell_type": "markdown",
   "metadata": {},
   "source": [
    "## Matrix Calculas\n",
    "\n",
    "Calculating and managing  derivatives for multiple functions with multiple parameters shifts us from vector calculas to matrix calculas\n",
    "\n",
    "For any function `f` with args `X=[x1, x2, x3]`, we can think of the arguments as a vector (or a 1D tensor in code). The convention is to use row vectors (single dimension tensor) as input of all functions.  \n",
    "**NOTE:** In the paper, the input vectors like `X` are used as column vectors. We implement them as row vectors here.  \n",
    "\n",
    "Finding partials of `f` w.r.t. `X` results in a gradient vector (here also row vector). Therefore changing the `gradient` function to take a tensor as input for `args` makes sense."
   ]
  },
  {
   "cell_type": "code",
   "execution_count": null,
   "metadata": {},
   "outputs": [],
   "source": [
    "for elem in tensor([1.,2.], requires_grad=True):\n",
    "    print(elem)"
   ]
  },
  {
   "cell_type": "code",
   "execution_count": null,
   "metadata": {},
   "outputs": [],
   "source": [
    "\"\"\" \n",
    "Take tensor as arg\n",
    "f takes tensor now as argument\n",
    "\"\"\"\n",
    "def f(inp_t):\n",
    "    assert inp_t.shape[0] == 2\n",
    "    return 3*inp_t[0].pow(2)*inp_t[1]\n",
    "\n",
    "def gradient(f, ip_tensor):\n",
    "    if ip_tensor.grad is not None: ip_tensor.grad.zero_()\n",
    "    z = f(ip_tensor)\n",
    "    z.backward()\n",
    "    return ip_tensor.grad"
   ]
  },
  {
   "cell_type": "code",
   "execution_count": null,
   "metadata": {},
   "outputs": [],
   "source": [
    "x, y = 2., 3.\n",
    "\n",
    "gradient(f, tensor([x, y], requires_grad=True))"
   ]
  },
  {
   "cell_type": "markdown",
   "metadata": {},
   "source": [
    "The partial derivative of a function w.r.t. a vector is of the same size as the size of the vector\n",
    "\n",
    "## Matrix Calculas\n",
    "\n",
    "### Jacobian Matrix\n",
    "\n",
    "For a set of functions `F = [f1, f2...fn]`, we can treat them in turn as a vector of functions.  \n",
    "Applying `F` to `X = [x1, x2...xn]`, we get:  \n",
    "`Y = F(X)`  \n",
    "Shape of `Y` is the same as the shape of `F`, which is a row vector.  \n",
    "Gradient of `Y` w.r.t `X` is: `[ grad(f1), grad(f2)...grad(f3)] wrt x`  \n",
    "This results in a matrix called Jacobian Matrix. Paper uses a Jacobian matrix of numerator type, we will use the denominator type matrix"
   ]
  }
 ],
 "metadata": {
  "kernelspec": {
   "display_name": "Python 3",
   "language": "python",
   "name": "python3"
  },
  "language_info": {
   "codemirror_mode": {
    "name": "ipython",
    "version": 3
   },
   "file_extension": ".py",
   "mimetype": "text/x-python",
   "name": "python",
   "nbconvert_exporter": "python",
   "pygments_lexer": "ipython3",
   "version": "3.7.7"
  }
 },
 "nbformat": 4,
 "nbformat_minor": 4
}
